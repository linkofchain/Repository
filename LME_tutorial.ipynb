{
  "nbformat": 4,
  "nbformat_minor": 0,
  "metadata": {
    "colab": {
      "provenance": [],
      "authorship_tag": "ABX9TyNwM6EVleRPJf0mnu/wlRML",
      "include_colab_link": true
    },
    "kernelspec": {
      "name": "ir",
      "display_name": "R"
    },
    "language_info": {
      "name": "R"
    }
  },
  "cells": [
    {
      "cell_type": "markdown",
      "metadata": {
        "id": "view-in-github",
        "colab_type": "text"
      },
      "source": [
        "<a href=\"https://colab.research.google.com/github/linkofchain/Repository/blob/master/LME_tutorial.ipynb\" target=\"_parent\"><img src=\"https://colab.research.google.com/assets/colab-badge.svg\" alt=\"Open In Colab\"/></a>"
      ]
    },
    {
      "cell_type": "markdown",
      "source": [
        "# code and stuff\n"
      ],
      "metadata": {
        "id": "xf3quEJG1alf"
      }
    },
    {
      "cell_type": "code",
      "source": [
        "pitch = c(233,204,242,130,112,142)\n",
        "sex = c(rep(\"female\",3),rep(\"male\",3))\n",
        "\n",
        "my.df = data.frame(sex,pitch)\n",
        "\n",
        "my.df"
      ],
      "metadata": {
        "colab": {
          "base_uri": "https://localhost:8080/",
          "height": 304
        },
        "id": "301FZ_zg1g6G",
        "outputId": "be8d6ede-7b71-4567-d668-743f0c0dc211"
      },
      "execution_count": null,
      "outputs": [
        {
          "output_type": "display_data",
          "data": {
            "text/html": [
              "<table class=\"dataframe\">\n",
              "<caption>A data.frame: 6 × 2</caption>\n",
              "<thead>\n",
              "\t<tr><th scope=col>sex</th><th scope=col>pitch</th></tr>\n",
              "\t<tr><th scope=col>&lt;chr&gt;</th><th scope=col>&lt;dbl&gt;</th></tr>\n",
              "</thead>\n",
              "<tbody>\n",
              "\t<tr><td>female</td><td>233</td></tr>\n",
              "\t<tr><td>female</td><td>204</td></tr>\n",
              "\t<tr><td>female</td><td>242</td></tr>\n",
              "\t<tr><td>male  </td><td>130</td></tr>\n",
              "\t<tr><td>male  </td><td>112</td></tr>\n",
              "\t<tr><td>male  </td><td>142</td></tr>\n",
              "</tbody>\n",
              "</table>\n"
            ],
            "text/markdown": "\nA data.frame: 6 × 2\n\n| sex &lt;chr&gt; | pitch &lt;dbl&gt; |\n|---|---|\n| female | 233 |\n| female | 204 |\n| female | 242 |\n| male   | 130 |\n| male   | 112 |\n| male   | 142 |\n\n",
            "text/latex": "A data.frame: 6 × 2\n\\begin{tabular}{ll}\n sex & pitch\\\\\n <chr> & <dbl>\\\\\n\\hline\n\t female & 233\\\\\n\t female & 204\\\\\n\t female & 242\\\\\n\t male   & 130\\\\\n\t male   & 112\\\\\n\t male   & 142\\\\\n\\end{tabular}\n",
            "text/plain": [
              "  sex    pitch\n",
              "1 female 233  \n",
              "2 female 204  \n",
              "3 female 242  \n",
              "4 male   130  \n",
              "5 male   112  \n",
              "6 male   142  "
            ]
          },
          "metadata": {}
        }
      ]
    },
    {
      "cell_type": "code",
      "source": [
        "xmdl = lm(pitch ~ sex, my.df)\n",
        "summary(xmdl)\n"
      ],
      "metadata": {
        "colab": {
          "base_uri": "https://localhost:8080/",
          "height": 329
        },
        "id": "FslCxJsrNizi",
        "outputId": "5708bc9e-5226-4649-82b2-a4415efb465d"
      },
      "execution_count": null,
      "outputs": [
        {
          "output_type": "display_data",
          "data": {
            "text/plain": [
              "\n",
              "Call:\n",
              "lm(formula = pitch ~ sex, data = my.df)\n",
              "\n",
              "Residuals:\n",
              "      1       2       3       4       5       6 \n",
              "  6.667 -22.333  15.667   2.000 -16.000  14.000 \n",
              "\n",
              "Coefficients:\n",
              "            Estimate Std. Error t value Pr(>|t|)    \n",
              "(Intercept)   226.33      10.18  22.224 2.43e-05 ***\n",
              "sexmale       -98.33      14.40  -6.827  0.00241 ** \n",
              "---\n",
              "Signif. codes:  0 ‘***’ 0.001 ‘**’ 0.01 ‘*’ 0.05 ‘.’ 0.1 ‘ ’ 1\n",
              "\n",
              "Residual standard error: 17.64 on 4 degrees of freedom\n",
              "Multiple R-squared:  0.921,\tAdjusted R-squared:  0.9012 \n",
              "F-statistic: 46.61 on 1 and 4 DF,  p-value: 0.002407\n"
            ]
          },
          "metadata": {}
        }
      ]
    },
    {
      "cell_type": "code",
      "source": [
        "mean(my.df[my.df$sex==\"female\",]$pitch)\n",
        "mean(my.df[my.df$sex==\"male\",]$pitch)"
      ],
      "metadata": {
        "colab": {
          "base_uri": "https://localhost:8080/",
          "height": 52
        },
        "id": "R9MHxxU6PwWq",
        "outputId": "2537796b-3c27-4df7-e4a0-3f3b3c5a7b70"
      },
      "execution_count": null,
      "outputs": [
        {
          "output_type": "display_data",
          "data": {
            "text/html": [
              "226.333333333333"
            ],
            "text/markdown": "226.333333333333",
            "text/latex": "226.333333333333",
            "text/plain": [
              "[1] 226.3333"
            ]
          },
          "metadata": {}
        },
        {
          "output_type": "display_data",
          "data": {
            "text/html": [
              "128"
            ],
            "text/markdown": "128",
            "text/latex": "128",
            "text/plain": [
              "[1] 128"
            ]
          },
          "metadata": {}
        }
      ]
    },
    {
      "cell_type": "code",
      "source": [
        "age = c(14,23,35,48,52,67)\n",
        "pitch = c(252,244,240,233,212,204)\n",
        "my.df = data.frame(age,pitch)\n",
        "xmdl = lm(pitch ~ age, my.df)\n",
        "summary(xmdl)"
      ],
      "metadata": {
        "colab": {
          "base_uri": "https://localhost:8080/",
          "height": 329
        },
        "id": "q2f7yy5LSd8V",
        "outputId": "12d66c82-4836-48a0-df2e-a37732b07c16"
      },
      "execution_count": null,
      "outputs": [
        {
          "output_type": "display_data",
          "data": {
            "text/plain": [
              "\n",
              "Call:\n",
              "lm(formula = pitch ~ age, data = my.df)\n",
              "\n",
              "Residuals:\n",
              "     1      2      3      4      5      6 \n",
              "-2.338 -2.149  4.769  9.597 -7.763 -2.115 \n",
              "\n",
              "Coefficients:\n",
              "            Estimate Std. Error t value Pr(>|t|)    \n",
              "(Intercept) 267.0765     6.8522   38.98 2.59e-06 ***\n",
              "age          -0.9099     0.1569   -5.80  0.00439 ** \n",
              "---\n",
              "Signif. codes:  0 ‘***’ 0.001 ‘**’ 0.01 ‘*’ 0.05 ‘.’ 0.1 ‘ ’ 1\n",
              "\n",
              "Residual standard error: 6.886 on 4 degrees of freedom\n",
              "Multiple R-squared:  0.8937,\tAdjusted R-squared:  0.8672 \n",
              "F-statistic: 33.64 on 1 and 4 DF,  p-value: 0.004395\n"
            ]
          },
          "metadata": {}
        }
      ]
    },
    {
      "cell_type": "code",
      "source": [
        "my.df$age.c = my.df$age - mean(my.df$age)\n",
        "xmdl = lm(pitch ~ age.c, my.df)\n",
        "summary(xmdl)"
      ],
      "metadata": {
        "colab": {
          "base_uri": "https://localhost:8080/",
          "height": 329
        },
        "id": "uDAwLAUVT3E7",
        "outputId": "de990095-e5ca-4701-d91a-42995e669fc6"
      },
      "execution_count": null,
      "outputs": [
        {
          "output_type": "display_data",
          "data": {
            "text/plain": [
              "\n",
              "Call:\n",
              "lm(formula = pitch ~ age.c, data = my.df)\n",
              "\n",
              "Residuals:\n",
              "     1      2      3      4      5      6 \n",
              "-2.338 -2.149  4.769  9.597 -7.763 -2.115 \n",
              "\n",
              "Coefficients:\n",
              "            Estimate Std. Error t value Pr(>|t|)    \n",
              "(Intercept) 230.8333     2.8113   82.11 1.32e-07 ***\n",
              "age.c        -0.9099     0.1569   -5.80  0.00439 ** \n",
              "---\n",
              "Signif. codes:  0 ‘***’ 0.001 ‘**’ 0.01 ‘*’ 0.05 ‘.’ 0.1 ‘ ’ 1\n",
              "\n",
              "Residual standard error: 6.886 on 4 degrees of freedom\n",
              "Multiple R-squared:  0.8937,\tAdjusted R-squared:  0.8672 \n",
              "F-statistic: 33.64 on 1 and 4 DF,  p-value: 0.004395\n"
            ]
          },
          "metadata": {}
        }
      ]
    },
    {
      "cell_type": "code",
      "source": [
        "plot(fitted(xmdl),residuals(xmdl))"
      ],
      "metadata": {
        "colab": {
          "base_uri": "https://localhost:8080/",
          "height": 437
        },
        "id": "Le3LIEWYUnLB",
        "outputId": "ed78b15b-cce7-4e7f-e689-f2414a256624"
      },
      "execution_count": null,
      "outputs": [
        {
          "output_type": "display_data",
          "data": {
            "text/plain": [
              "plot without title"
            ],
            "image/png": "[encoded data removed]"
          },
          "metadata": {
            "image/png": {
              "width": 420,
              "height": 420
            }
          }
        }
      ]
    },
    {
      "cell_type": "code",
      "source": [
        "plot(rnorm(100),rnorm(100))"
      ],
      "metadata": {
        "colab": {
          "base_uri": "https://localhost:8080/",
          "height": 437
        },
        "id": "PilglNixWRRU",
        "outputId": "b5795582-9f03-40fc-df25-107e547b5cba"
      },
      "execution_count": null,
      "outputs": [
        {
          "output_type": "display_data",
          "data": {
            "text/plain": [
              "plot without title"
            ],
            "image/png": "[encoded data removed]"
          },
          "metadata": {
            "image/png": {
              "width": 420,
              "height": 420
            }
          }
        }
      ]
    },
    {
      "cell_type": "code",
      "source": [
        "hist(residuals(xmdl))"
      ],
      "metadata": {
        "colab": {
          "base_uri": "https://localhost:8080/",
          "height": 437
        },
        "id": "IbY7DNhHWcbE",
        "outputId": "b0f0f19c-8c01-486c-f38a-d5989a3c114a"
      },
      "execution_count": null,
      "outputs": [
        {
          "output_type": "display_data",
          "data": {
            "text/plain": [
              "Plot with title “Histogram of residuals(xmdl)”"
            ],
            "image/png": "[encoded data removed]"
          },
          "metadata": {
            "image/png": {
              "width": 420,
              "height": 420
            }
          }
        }
      ]
    },
    {
      "cell_type": "code",
      "source": [
        "qqnorm(residuals(xmdl))"
      ],
      "metadata": {
        "colab": {
          "base_uri": "https://localhost:8080/",
          "height": 437
        },
        "id": "REWnp_HzWdkr",
        "outputId": "f101684c-c40e-4ffc-b01f-2d8f8983798b"
      },
      "execution_count": null,
      "outputs": [
        {
          "output_type": "display_data",
          "data": {
            "text/plain": [
              "Plot with title “Normal Q-Q Plot”"
            ],
            "image/png": "[encoded data removed]"
          },
          "metadata": {
            "image/png": {
              "width": 420,
              "height": 420
            }
          }
        }
      ]
    },
    {
      "cell_type": "code",
      "source": [
        "dfbeta(xmdl)"
      ],
      "metadata": {
        "colab": {
          "base_uri": "https://localhost:8080/",
          "height": 255
        },
        "id": "nwwToWiVWJv9",
        "outputId": "9680eb18-5b98-4a8a-9b60-a1d732653aad"
      },
      "execution_count": null,
      "outputs": [
        {
          "output_type": "display_data",
          "data": {
            "text/html": [
              "<table class=\"dataframe\">\n",
              "<caption>A matrix: 6 × 2 of type dbl</caption>\n",
              "<thead>\n",
              "\t<tr><th></th><th scope=col>(Intercept)</th><th scope=col>age.c</th></tr>\n",
              "</thead>\n",
              "<tbody>\n",
              "\t<tr><th scope=row>1</th><td>-0.8002664</td><td> 0.06437573</td></tr>\n",
              "\t<tr><th scope=row>2</th><td>-0.5220150</td><td> 0.02736278</td></tr>\n",
              "\t<tr><th scope=row>3</th><td> 0.9678744</td><td>-0.01456709</td></tr>\n",
              "\t<tr><th scope=row>4</th><td> 2.0026352</td><td> 0.05092767</td></tr>\n",
              "\t<tr><th scope=row>5</th><td>-1.7103247</td><td>-0.06479736</td></tr>\n",
              "\t<tr><th scope=row>6</th><td>-0.7828787</td><td>-0.06622744</td></tr>\n",
              "</tbody>\n",
              "</table>\n"
            ],
            "text/markdown": "\nA matrix: 6 × 2 of type dbl\n\n| <!--/--> | (Intercept) | age.c |\n|---|---|---|\n| 1 | -0.8002664 |  0.06437573 |\n| 2 | -0.5220150 |  0.02736278 |\n| 3 |  0.9678744 | -0.01456709 |\n| 4 |  2.0026352 |  0.05092767 |\n| 5 | -1.7103247 | -0.06479736 |\n| 6 | -0.7828787 | -0.06622744 |\n\n",
            "text/latex": "A matrix: 6 × 2 of type dbl\n\\begin{tabular}{r|ll}\n  & (Intercept) & age.c\\\\\n\\hline\n\t1 & -0.8002664 &  0.06437573\\\\\n\t2 & -0.5220150 &  0.02736278\\\\\n\t3 &  0.9678744 & -0.01456709\\\\\n\t4 &  2.0026352 &  0.05092767\\\\\n\t5 & -1.7103247 & -0.06479736\\\\\n\t6 & -0.7828787 & -0.06622744\\\\\n\\end{tabular}\n",
            "text/plain": [
              "  (Intercept) age.c      \n",
              "1 -0.8002664   0.06437573\n",
              "2 -0.5220150   0.02736278\n",
              "3  0.9678744  -0.01456709\n",
              "4  2.0026352   0.05092767\n",
              "5 -1.7103247  -0.06479736\n",
              "6 -0.7828787  -0.06622744"
            ]
          },
          "metadata": {}
        }
      ]
    }
  ]
}