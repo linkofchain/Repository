{
  "nbformat": 4,
  "nbformat_minor": 0,
  "metadata": {
    "colab": {
      "provenance": [],
      "authorship_tag": "ABX9TyMW3/huEoZKJsrBtxNPBK43",
      "include_colab_link": true
    },
    "kernelspec": {
      "name": "python3",
      "display_name": "Python 3"
    },
    "language_info": {
      "name": "python"
    }
  },
  "cells": [
    {
      "cell_type": "markdown",
      "metadata": {
        "id": "view-in-github",
        "colab_type": "text"
      },
      "source": [
        "<a href=\"https://colab.research.google.com/github/linkofchain/Repository/blob/master/bubble_sort_recursive.ipynb\" target=\"_parent\"><img src=\"https://colab.research.google.com/assets/colab-badge.svg\" alt=\"Open In Colab\"/></a>"
      ]
    },
    {
      "cell_type": "markdown",
      "source": [
        "Bubble Sort: Write a function bubble_sort() in bubble_sort_recursive.py that takes a list of\n",
        "random integers and returns a list of those numbers sorted. Your function should be recursive (i.e., not\n",
        "iterative)."
      ],
      "metadata": {
        "id": "eFI24Wbw7uTf"
      }
    },
    {
      "cell_type": "code",
      "execution_count": null,
      "metadata": {
        "id": "GIbxFwFo4A7G"
      },
      "outputs": [],
      "source": [
        "def bubble_sort(ran_list):\n",
        "  swapped = False\n",
        "  for i in range(len(ran_list)-1):\n",
        "    if(ran_list[i] > ran_list[i+1]):\n",
        "      ran_list[i], ran_list[i+1] = ran_list[i+1], ran_list[i] #swap\n",
        "      swapped = True\n",
        "  if swapped == True:\n",
        "    return bubble_sort(ran_list)\n",
        "  else:\n",
        "    return ran_list"
      ]
    }
  ]
}